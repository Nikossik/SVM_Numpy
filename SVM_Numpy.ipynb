{
 "cells": [
  {
   "cell_type": "code",
   "execution_count": 1,
   "id": "15b1b865",
   "metadata": {},
   "outputs": [],
   "source": [
    "import numpy as np\n",
    "from matplotlib import pyplot as plt\n",
    "from sklearn.metrics import accuracy_score"
   ]
  },
  {
   "cell_type": "markdown",
   "id": "d8790f44",
   "metadata": {},
   "source": [
    "# Making SVM"
   ]
  },
  {
   "cell_type": "code",
   "execution_count": 40,
   "id": "719f22ea",
   "metadata": {},
   "outputs": [],
   "source": [
    "#Input data\n",
    "x = np.array([\n",
    "    [-2,4,-1],\n",
    "    [4,1,-1],\n",
    "    [1, 6, -1],\n",
    "    [2, 4, -1],\n",
    "    [6, 2, -1]\n",
    "    [5, 5, 1],  \n",
    "])\n",
    "\n",
    "#output label\n",
    "y = np.array([-1, -1, 1, 1, 1, 1])"
   ]
  },
  {
   "cell_type": "code",
   "execution_count": 41,
   "id": "6a34ac7d",
   "metadata": {},
   "outputs": [
    {
     "data": {
      "text/plain": [
       "[<matplotlib.lines.Line2D at 0x7f93c5eaa7c0>]"
      ]
     },
     "execution_count": 41,
     "metadata": {},
     "output_type": "execute_result"
    },
    {
     "data": {
      "image/png": "[encoded data removed]",
      "text/plain": [
       "<Figure size 432x288 with 1 Axes>"
      ]
     },
     "metadata": {
      "needs_background": "light"
     },
     "output_type": "display_data"
    }
   ],
   "source": [
    "for val, inp in enumerate(x):\n",
    "    if y[val] == -1:\n",
    "        plt.scatter(inp[0], inp[1], s=100, marker='_', linewidths=5)\n",
    "    else:\n",
    "        plt.scatter(inp[0], inp[1], s=100, marker='+', linewidths=5)\n",
    "\n",
    "plt.plot([-2,6],[6,1])"
   ]
  },
  {
   "cell_type": "code",
   "execution_count": 50,
   "id": "506671b3",
   "metadata": {},
   "outputs": [],
   "source": [
    "def svm_function(x,y):\n",
    "    #initilizing weight\n",
    "    w = np.zeros(len(x[0]))\n",
    "    #initialize learning rate\n",
    "    l_rate = 1\n",
    "    #epoch\n",
    "    epoch = 10000\n",
    "    #output list\n",
    "    out = []\n",
    "    preds = []\n",
    "    #training svm\n",
    "    for e in range(epoch):\n",
    "        for i, val in enumerate(x):\n",
    "            val1 = np.dot(x[i], w)\n",
    "            if (y[i]*val1 < 1):\n",
    "                w = w + l_rate * ((y[i]*x[i]) - (2*(1/epoch)*w))\n",
    "            else:\n",
    "                w = w + l_rate * (-2*(1/epoch)*w)\n",
    "    \n",
    "    for i, val in enumerate(x):\n",
    "        out.append(np.dot(x[i], w))\n",
    "    for i in out:\n",
    "        if i < 0:\n",
    "            preds.append(-1)\n",
    "        else:\n",
    "            preds.append(1)\n",
    "    \n",
    "    return w, preds"
   ]
  },
  {
   "cell_type": "code",
   "execution_count": 51,
   "id": "eb4a31c4",
   "metadata": {},
   "outputs": [],
   "source": [
    "w, out = svm_function(x,y)"
   ]
  },
  {
   "cell_type": "code",
   "execution_count": 52,
   "id": "5f6d5cac",
   "metadata": {},
   "outputs": [
    {
     "name": "stdout",
     "output_type": "stream",
     "text": [
      "Calculated weights\n",
      "[ 1.62876617  3.23017165 11.37623851]\n"
     ]
    }
   ],
   "source": [
    "print('Calculated weights')\n",
    "print(w)"
   ]
  },
  {
   "cell_type": "code",
   "execution_count": 53,
   "id": "6abe1d3e",
   "metadata": {},
   "outputs": [
    {
     "name": "stdout",
     "output_type": "stream",
     "text": [
      "predicted output\n",
      "[-1, -1, 1, 1, 1]\n"
     ]
    }
   ],
   "source": [
    "print('predicted output')\n",
    "print(out)"
   ]
  },
  {
   "cell_type": "code",
   "execution_count": 54,
   "id": "5b5a56d6",
   "metadata": {},
   "outputs": [
    {
     "name": "stdout",
     "output_type": "stream",
     "text": [
      "accuracy: 1.0\n"
     ]
    }
   ],
   "source": [
    "print('accuracy:', accuracy_score(out, y))"
   ]
  }
 ],
 "metadata": {
  "kernelspec": {
   "display_name": "Python 3",
   "language": "python",
   "name": "python3"
  },
  "language_info": {
   "codemirror_mode": {
    "name": "ipython",
    "version": 3
   },
   "file_extension": ".py",
   "mimetype": "text/x-python",
   "name": "python",
   "nbconvert_exporter": "python",
   "pygments_lexer": "ipython3",
   "version": "3.8.6"
  }
 },
 "nbformat": 4,
 "nbformat_minor": 5
}
